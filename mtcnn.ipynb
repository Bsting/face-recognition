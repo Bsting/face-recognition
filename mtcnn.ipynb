{
 "cells": [
  {
   "cell_type": "code",
   "execution_count": 1,
   "metadata": {},
   "outputs": [],
   "source": [
    "%load_ext autoreload\n",
    "%autoreload 2\n",
    "\n",
    "import torch\n",
    "import torch\n",
    "import torch.nn as nn\n",
    "import torch.nn.functional as F\n",
    "import time\n",
    "\n",
    "from mtcnn import MTCNN\n",
    "from PIL import Image, ImageDraw"
   ]
  },
  {
   "cell_type": "code",
   "execution_count": 2,
   "metadata": {},
   "outputs": [
    {
     "name": "stdout",
     "output_type": "stream",
     "text": [
      "2.2.1+cu121\n"
     ]
    }
   ],
   "source": [
    "print(torch.__version__)"
   ]
  },
  {
   "cell_type": "code",
   "execution_count": 3,
   "metadata": {},
   "outputs": [],
   "source": [
    "mtcnn = MTCNN()"
   ]
  },
  {
   "cell_type": "code",
   "execution_count": 4,
   "metadata": {},
   "outputs": [],
   "source": [
    "def show_bboxes(img, bounding_boxes, facial_landmarks=[]):\n",
    "    \"\"\"Draw bounding boxes and facial landmarks.\n",
    "\n",
    "    Arguments:\n",
    "        img: an instance of PIL.Image.\n",
    "        bounding_boxes: a float numpy array of shape [n, 5].\n",
    "        facial_landmarks: a float numpy array of shape [n, 10].\n",
    "\n",
    "    Returns:\n",
    "        an instance of PIL.Image.\n",
    "    \"\"\"\n",
    "\n",
    "    img_copy = img.copy()\n",
    "    draw = ImageDraw.Draw(img_copy)\n",
    "\n",
    "    for b in bounding_boxes:\n",
    "        draw.rectangle([\n",
    "            (b[0], b[1]), (b[2], b[3])\n",
    "        ], outline='white')\n",
    "\n",
    "    for p in facial_landmarks:\n",
    "        for i in range(5):\n",
    "            draw.ellipse([\n",
    "                (p[i] - 1.0, p[i + 5] - 1.0),\n",
    "                (p[i] + 1.0, p[i + 5] + 1.0)\n",
    "            ], outline='red')\n",
    "\n",
    "    return img_copy"
   ]
  },
  {
   "cell_type": "code",
   "execution_count": null,
   "metadata": {},
   "outputs": [],
   "source": [
    "file = './data/test/jay_s.jpg'\n",
    "pil_image = Image.open(file)\n",
    "start_time = time.time()\n",
    "mtcnn_bboxes, mtcnn_landmarks = mtcnn.detect_faces(pil_image, min_face_size=20,thresholds=[0.7, 0.8, 0.9],\n",
    "                     nms_thresholds=[0.7, 0.7, 0.7], square_bounding_box=False)\n",
    "print(f'Time: {int((time.time() - start_time) * 1000)} ms')\n",
    "show_bboxes(pil_image, mtcnn_bboxes, mtcnn_landmarks)"
   ]
  },
  {
   "cell_type": "code",
   "execution_count": null,
   "metadata": {},
   "outputs": [],
   "source": [
    "from face_detector.mtcnn.get_nets import PNet, RNet, ONet"
   ]
  },
  {
   "cell_type": "code",
   "execution_count": null,
   "metadata": {},
   "outputs": [],
   "source": [
    "pnet = PNet()\n",
    "with torch.no_grad():\n",
    "    pnet.eval()\n",
    "    traced_script_module = torch.jit.script(pnet)\n",
    "    traced_script_module.save(\"pnet.pt\")"
   ]
  },
  {
   "cell_type": "code",
   "execution_count": 95,
   "metadata": {},
   "outputs": [],
   "source": [
    "rnet = RNet()\n",
    "with torch.no_grad():\n",
    "    rnet.eval()\n",
    "    traced_script_module = torch.jit.script(rnet)\n",
    "    traced_script_module.save(\"rnet.pt\")"
   ]
  },
  {
   "cell_type": "code",
   "execution_count": 8,
   "metadata": {},
   "outputs": [],
   "source": [
    "onet = ONet()\n",
    "with torch.no_grad():\n",
    "    onet.eval()\n",
    "    traced_script_module = torch.jit.script(onet)\n",
    "    traced_script_module.save(\"onet.pt\")"
   ]
  },
  {
   "cell_type": "code",
   "execution_count": 17,
   "metadata": {},
   "outputs": [
    {
     "name": "stdout",
     "output_type": "stream",
     "text": [
      "RecursiveScriptModule(\n",
      "  original_name=PNet\n",
      "  (features): RecursiveScriptModule(\n",
      "    original_name=Sequential\n",
      "    (conv1): RecursiveScriptModule(original_name=Conv2d)\n",
      "    (prelu1): RecursiveScriptModule(original_name=PReLU)\n",
      "    (pool1): RecursiveScriptModule(original_name=MaxPool2d)\n",
      "    (conv2): RecursiveScriptModule(original_name=Conv2d)\n",
      "    (prelu2): RecursiveScriptModule(original_name=PReLU)\n",
      "    (conv3): RecursiveScriptModule(original_name=Conv2d)\n",
      "    (prelu3): RecursiveScriptModule(original_name=PReLU)\n",
      "  )\n",
      "  (conv4_1): RecursiveScriptModule(original_name=Conv2d)\n",
      "  (conv4_2): RecursiveScriptModule(original_name=Conv2d)\n",
      ")\n"
     ]
    }
   ],
   "source": [
    "print(torch.jit.load(\"pnet.pt\"))"
   ]
  },
  {
   "cell_type": "code",
   "execution_count": 18,
   "metadata": {},
   "outputs": [
    {
     "name": "stdout",
     "output_type": "stream",
     "text": [
      "RecursiveScriptModule(\n",
      "  original_name=PNet\n",
      "  (features): RecursiveScriptModule(\n",
      "    original_name=Sequential\n",
      "    (conv1): RecursiveScriptModule(original_name=Conv2d)\n",
      "    (prelu1): RecursiveScriptModule(original_name=PReLU)\n",
      "    (pool1): RecursiveScriptModule(original_name=MaxPool2d)\n",
      "    (conv2): RecursiveScriptModule(original_name=Conv2d)\n",
      "    (prelu2): RecursiveScriptModule(original_name=PReLU)\n",
      "    (conv3): RecursiveScriptModule(original_name=Conv2d)\n",
      "    (prelu3): RecursiveScriptModule(original_name=PReLU)\n",
      "  )\n",
      "  (conv4_1): RecursiveScriptModule(original_name=Conv2d)\n",
      "  (conv4_2): RecursiveScriptModule(original_name=Conv2d)\n",
      ")\n"
     ]
    }
   ],
   "source": [
    "traced_script_module = torch.jit.script(PNet())\n",
    "print(traced_script_module)"
   ]
  }
 ],
 "metadata": {
  "kernelspec": {
   "display_name": "fws-dell",
   "language": "python",
   "name": "fws-dell"
  },
  "language_info": {
   "codemirror_mode": {
    "name": "ipython",
    "version": 3
   },
   "file_extension": ".py",
   "mimetype": "text/x-python",
   "name": "python",
   "nbconvert_exporter": "python",
   "pygments_lexer": "ipython3",
   "version": "3.10.10"
  }
 },
 "nbformat": 4,
 "nbformat_minor": 4
}
